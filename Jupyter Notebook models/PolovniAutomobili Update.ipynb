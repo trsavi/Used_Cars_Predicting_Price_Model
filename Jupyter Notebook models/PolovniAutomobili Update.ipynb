{
 "cells": [
  {
   "cell_type": "code",
   "execution_count": 1,
   "metadata": {},
   "outputs": [],
   "source": [
    "from selenium import webdriver\n",
    "import requests\n",
    "from bs4 import BeautifulSoup as bs\n",
    "import pandas as pd\n",
    "import  sys\n"
   ]
  },
  {
   "cell_type": "code",
   "execution_count": 2,
   "metadata": {},
   "outputs": [],
   "source": [
    "driver = webdriver.Chrome('C:/Users/HP/Downloads/chromedriver.exe')"
   ]
  },
  {
   "cell_type": "code",
   "execution_count": 3,
   "metadata": {},
   "outputs": [],
   "source": [
    "# Function that parser through page and returns bs content\n",
    "def parse_page(url):\n",
    "    try:\n",
    "        driver.get(url)\n",
    "        content = driver.page_source\n",
    "        soup = bs(content,'html.parser')\n",
    "        return soup\n",
    "    except:\n",
    "        pass"
   ]
  },
  {
   "cell_type": "code",
   "execution_count": 4,
   "metadata": {},
   "outputs": [],
   "source": [
    "# Returns a list of all models of one brand\n",
    "def get_models(brand):\n",
    "\tbrand = (brand.replace(' ', '-')).lower()\n",
    "\turl ='https://www.polovniautomobili.com/auto-oglasi/pretraga?brand=' + brand\n",
    "\tsoup = parse_page(url)\n",
    "\tmodels= soup.find(id='model')\n",
    "\tmodels_list=[]\n",
    "\tfor model in models:\n",
    "\t\tif model.get_text()=='Ostalo':\n",
    "\t\t\tpass\n",
    "\t\telse:\n",
    "\t\t\tmodels_list.append(model.get_text())\n",
    "\treturn models_list[1:]"
   ]
  },
  {
   "cell_type": "code",
   "execution_count": 5,
   "metadata": {},
   "outputs": [],
   "source": [
    "def replace(string):\n",
    "\tstring = string.replace('š','s')\n",
    "\tstring = string.replace('Š','s')\n",
    "\tstring = string.replace('ć','c')\n",
    "\tstring = string.replace('Ć','c')\n",
    "\tstring = string.replace('Ž','z')\n",
    "\tstring = string.replace('ž','z')\n",
    "\tstring = string.replace('č','c')\n",
    "\tstring = string.replace('Č','c')\n",
    "\treturn string\n"
   ]
  },
  {
   "cell_type": "code",
   "execution_count": 6,
   "metadata": {},
   "outputs": [],
   "source": [
    "def get_num_of_cars(url):\n",
    "\tsoup = parse_page(url)\n",
    "\tif soup!=None:\n",
    "\t\ttry:\n",
    "\t\t\tnum = soup.findAll('small')\n",
    "\t\t\tnum = num[3].get_text()\n",
    "\t\t\tnum = num.split(' ')[-1]\n",
    "\t\t\treturn (round(int(num)/25)+1)\n",
    "\t\texcept:\n",
    "\t\t\treturn -1\n",
    "\t\t\tpass"
   ]
  },
  {
   "cell_type": "code",
   "execution_count": 7,
   "metadata": {},
   "outputs": [],
   "source": [
    "# Get all cars from one brand (iterate through each model in given brand)\n",
    "def get_cars(brand, model):\n",
    "\n",
    "    brand = (brand.replace(' ', '-')).lower()\n",
    "    model = (model.replace(' ', '-')).lower()\n",
    "    url ='https://www.polovniautomobili.com/auto-oglasi/pretraga?brand=' + brand + '&model[]=' + model\n",
    "    list_of_links = []\n",
    "\n",
    "    # find number of pages in a given model\n",
    "    num = get_num_of_cars(url)\n",
    "    if num==0:\n",
    "        num=1\n",
    "    # if ther are car ads on site and number of cars is greater or equal to 100\n",
    "    if num!=-1 and num>=4:\n",
    "        carList = []\n",
    "        # loop over number of pages\n",
    "        for i in range(1,num+1):\n",
    "            soup = parse_page(url+'&page='+str(i))\n",
    "            if soup!=None:\n",
    "                articles = driver.find_elements_by_css_selector('a.ga-title')\n",
    "                try:\n",
    "                    for article in articles:\n",
    "                        \n",
    "                        list_of_links.append(article.get_attribute(\"href\"))\n",
    "                    return list_of_links\n",
    "                except:\n",
    "                    pass\n",
    "            \n",
    "                   \n",
    "        #return list_of_links         \n",
    "    else:\n",
    "        pass\n"
   ]
  },
  {
   "cell_type": "code",
   "execution_count": 8,
   "metadata": {},
   "outputs": [],
   "source": [
    "# function that inserts cars into dataframe and then loads into .csv file\n",
    "def insertAll():\n",
    "    # iterate through every brand and every model of that brand and load data into dataframe\n",
    "    #brands = all_Brands()\n",
    "    brands=['AUDI']\n",
    "\n",
    "    try:\n",
    "        for brand in brands:\n",
    "            models = ['A3','A4']\n",
    "            for model in models:\n",
    "                if model==None:\n",
    "                    pass\n",
    "                else:\n",
    "                    cars = get_cars(brand, model)\n",
    "                    return cars\n",
    "                    \n",
    "                               \n",
    "        #return cars\n",
    "    except Exception as e:\n",
    "        pass\n",
    "    "
   ]
  },
  {
   "cell_type": "code",
   "execution_count": 9,
   "metadata": {},
   "outputs": [],
   "source": [
    "carList=[]\n",
    "\n",
    "def scrape_pages(urls):\n",
    "    data = pd.DataFrame()\n",
    "\n",
    "    \n",
    "    for url in urls:\n",
    "        try:\n",
    "            driver.get(url)\n",
    "            content = driver.page_source\n",
    "            soup = bs(content,'html.parser')\n",
    "            try:\n",
    "                cena = soup.find(class_=\"price-item position-relative\")\n",
    "                cena_popust = soup.find(\"price-item-discount position-relative\")\n",
    "                if cena.get_text()!=None:\n",
    "                    cena=cena.get_text()\n",
    "                else:\n",
    "                    cena=cena_popust.get_text()\n",
    "                \n",
    "                opste= soup.find_all(class_=\"uk-width-large-1-1 uk-width-medium-3-10 uk-width-1-2\")\n",
    "                karakteristike_naziv = soup.find_all(class_=\"uk-width-medium-1-4 uk-width-1-2\")\n",
    "                karakteristike = soup.find_all(class_=\"uk-width-medium-1-4 uk-width-1-2 uk-text-bold\")\n",
    "                oprema = soup.find_all(class_=\"uk-width-medium-1-3 uk-width-1-2\")\n",
    "    \n",
    "                try:\n",
    "                    karakteristike_list=[op.get_text() for op in opste] \n",
    "                    for k in karakteristike:\n",
    "                        karakteristike_list.append(k.get_text())\n",
    "                    oprema_num=len([opr.get_text() for opr in oprema])\n",
    "                except: \n",
    "                    pass\n",
    "                karakteristike_list.append(oprema_num)\n",
    "                \n",
    "                cena=cena.replace(\"\\\\n\",\"\")\n",
    "                \n",
    "                cena = cena[:-4].replace(\".\",\"\")\n",
    "                cena = int(cena[1:])\n",
    "                \n",
    "                karakteristike_list.append(cena)\n",
    "\n",
    "                karakteristike_naziv_list = [kar.get_text() for kar in karakteristike_naziv]\n",
    "                \n",
    "                \n",
    "                \n",
    "                karakteristike_list.append(oprema_num)\n",
    "                \n",
    "                \n",
    "                labels = ['Vozilo','Model','Marka','Godiste','Kilometraza','Karoserija', 'Gorivo', 'Kubikaza','Snaga', 'Fiksna cena','Zamena', 'Broj oglasa']\n",
    "                for i in karakteristike_naziv_list:\n",
    "                    labels.append(i)\n",
    "                labels.append('Oprema')\n",
    "                labels.append('Cena')\n",
    "                dictionary=dict(zip(labels, karakteristike_list))\n",
    "                carList.append(dictionary)\n",
    "        \n",
    "                \n",
    "            except:\n",
    "                print(\"Unexpected error:\", sys.exc_info())\n",
    "                pass\n",
    "        except:\n",
    "            print(\"Unexpected error:\", sys.exc_info())\n",
    "            pass\n",
    "    data = data.append(carList,ignore_index=True)\n",
    "    return data\n",
    "                    \n",
    "        "
   ]
  },
  {
   "cell_type": "code",
   "execution_count": 10,
   "metadata": {},
   "outputs": [
    {
     "ename": "TypeError",
     "evalue": "'NoneType' object is not iterable",
     "output_type": "error",
     "traceback": [
      "\u001b[1;31m---------------------------------------------------------------------------\u001b[0m",
      "\u001b[1;31mTypeError\u001b[0m                                 Traceback (most recent call last)",
      "\u001b[1;32m<ipython-input-10-f6ddb1943ca1>\u001b[0m in \u001b[0;36m<module>\u001b[1;34m\u001b[0m\n\u001b[0;32m      1\u001b[0m \u001b[0mlist_of_links\u001b[0m \u001b[1;33m=\u001b[0m \u001b[0minsertAll\u001b[0m\u001b[1;33m(\u001b[0m\u001b[1;33m)\u001b[0m\u001b[1;33m\u001b[0m\u001b[1;33m\u001b[0m\u001b[0m\n\u001b[1;32m----> 2\u001b[1;33m \u001b[0mdata\u001b[0m \u001b[1;33m=\u001b[0m \u001b[0mscrape_pages\u001b[0m\u001b[1;33m(\u001b[0m\u001b[0mlist_of_links\u001b[0m\u001b[1;33m)\u001b[0m\u001b[1;33m\u001b[0m\u001b[1;33m\u001b[0m\u001b[0m\n\u001b[0m",
      "\u001b[1;32m<ipython-input-9-ecd55fad655e>\u001b[0m in \u001b[0;36mscrape_pages\u001b[1;34m(urls)\u001b[0m\n\u001b[0;32m      5\u001b[0m     \u001b[0mcarList\u001b[0m\u001b[1;33m=\u001b[0m\u001b[1;33m[\u001b[0m\u001b[1;33m]\u001b[0m\u001b[1;33m\u001b[0m\u001b[1;33m\u001b[0m\u001b[0m\n\u001b[0;32m      6\u001b[0m \u001b[1;33m\u001b[0m\u001b[0m\n\u001b[1;32m----> 7\u001b[1;33m     \u001b[1;32mfor\u001b[0m \u001b[0murl\u001b[0m \u001b[1;32min\u001b[0m \u001b[0murls\u001b[0m\u001b[1;33m:\u001b[0m\u001b[1;33m\u001b[0m\u001b[1;33m\u001b[0m\u001b[0m\n\u001b[0m\u001b[0;32m      8\u001b[0m         \u001b[1;32mtry\u001b[0m\u001b[1;33m:\u001b[0m\u001b[1;33m\u001b[0m\u001b[1;33m\u001b[0m\u001b[0m\n\u001b[0;32m      9\u001b[0m             \u001b[0mdriver\u001b[0m\u001b[1;33m.\u001b[0m\u001b[0mget\u001b[0m\u001b[1;33m(\u001b[0m\u001b[0murl\u001b[0m\u001b[1;33m)\u001b[0m\u001b[1;33m\u001b[0m\u001b[1;33m\u001b[0m\u001b[0m\n",
      "\u001b[1;31mTypeError\u001b[0m: 'NoneType' object is not iterable"
     ]
    }
   ],
   "source": [
    "\n",
    "list_of_links = insertAll()\n",
    "data = scrape_pages(list_of_links)\n"
   ]
  },
  {
   "cell_type": "code",
   "execution_count": null,
   "metadata": {},
   "outputs": [],
   "source": [
    "data.head()"
   ]
  },
  {
   "cell_type": "code",
   "execution_count": null,
   "metadata": {},
   "outputs": [],
   "source": []
  },
  {
   "cell_type": "code",
   "execution_count": null,
   "metadata": {},
   "outputs": [],
   "source": []
  },
  {
   "cell_type": "code",
   "execution_count": null,
   "metadata": {},
   "outputs": [],
   "source": []
  },
  {
   "cell_type": "code",
   "execution_count": null,
   "metadata": {},
   "outputs": [],
   "source": []
  },
  {
   "cell_type": "code",
   "execution_count": null,
   "metadata": {},
   "outputs": [],
   "source": []
  },
  {
   "cell_type": "code",
   "execution_count": null,
   "metadata": {},
   "outputs": [],
   "source": []
  }
 ],
 "metadata": {
  "kernelspec": {
   "display_name": "Python 3",
   "language": "python",
   "name": "python3"
  },
  "language_info": {
   "codemirror_mode": {
    "name": "ipython",
    "version": 3
   },
   "file_extension": ".py",
   "mimetype": "text/x-python",
   "name": "python",
   "nbconvert_exporter": "python",
   "pygments_lexer": "ipython3",
   "version": "3.7.6"
  }
 },
 "nbformat": 4,
 "nbformat_minor": 4
}
